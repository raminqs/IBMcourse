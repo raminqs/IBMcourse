{
 "cells": [
  {
   "cell_type": "markdown",
   "id": "ddfd54e8-ea2e-4d71-9850-af538ba3e2f8",
   "metadata": {},
   "source": [
    "# Data Science Tools and Ecosystem\n",
    "In this notebook, Data Science Tools and Ecosystem are summarized."
   ]
  },
  {
   "cell_type": "markdown",
   "id": "aa4c1453-62da-485d-ad2e-75c785312f4d",
   "metadata": {},
   "source": [
    "**Objectives:**\n",
    "* List popular languages for Data Science\n",
    "* List the commonly used libraries for Data Science\n",
    "* Create a table of Data Science tools\n",
    "* Create a code cell to multiply and add numbers"
   ]
  },
  {
   "cell_type": "markdown",
   "id": "d0d40c71-ee32-49ce-904e-e3b38d57a08a",
   "metadata": {},
   "source": [
    "## Author:\n",
    "ramin ghiasi"
   ]
  },
  {
   "cell_type": "markdown",
   "id": "4f47f16e-90cb-484c-9b1e-54e37f758b0f",
   "metadata": {
    "tags": []
   },
   "source": [
    "Some of the popular languages that Data Scientists use are:\n",
    "1. R\n",
    "2. Python\n",
    "3. Matlab"
   ]
  },
  {
   "cell_type": "markdown",
   "id": "cd5e98f8-40e2-4c3b-9ec7-cf8ebc548514",
   "metadata": {},
   "source": [
    "Some of the commonly used libraries used by Data Scientists include:\n",
    "1. Numpy\n",
    "2. Matplotlib\n",
    "3. Pandas\n",
    "4. Seaborn"
   ]
  },
  {
   "cell_type": "markdown",
   "id": "d9dc3a01-9aeb-43bc-a4c9-397ef0015bf9",
   "metadata": {},
   "source": [
    "|Data Science Tools|\n",
    "|--------|\n",
    "|Pytorch|\n",
    "|Jupyter Notebooks|\n",
    "|Rstudio|"
   ]
  },
  {
   "cell_type": "markdown",
   "id": "8276c25b-94df-4c68-b952-9d50195fd5db",
   "metadata": {},
   "source": [
    "### Below are a few examples of evaluating arithmetic expressions in Python"
   ]
  },
  {
   "cell_type": "code",
   "execution_count": 29,
   "id": "51086a19-095f-42cd-a105-cd93c8384638",
   "metadata": {
    "tags": []
   },
   "outputs": [
    {
     "data": {
      "text/plain": [
       "17"
      ]
     },
     "execution_count": 29,
     "metadata": {},
     "output_type": "execute_result"
    }
   ],
   "source": [
    "#This a simple arithmetic expression to mutiply then add integers\n",
    "(3*4)+5"
   ]
  },
  {
   "cell_type": "code",
   "execution_count": 31,
   "id": "6c7f654e-e305-4858-bf77-4604de2cbb24",
   "metadata": {
    "tags": []
   },
   "outputs": [
    {
     "data": {
      "text/plain": [
       "3.3333333333333335"
      ]
     },
     "execution_count": 31,
     "metadata": {},
     "output_type": "execute_result"
    }
   ],
   "source": [
    "#This will convert 200 minutes to hours by diving by 60\n",
    "200/60 # minutes to hour"
   ]
  },
  {
   "cell_type": "code",
   "execution_count": null,
   "id": "9bce9c91-8327-4fed-a3ee-23a933b8aa5a",
   "metadata": {},
   "outputs": [],
   "source": []
  }
 ],
 "metadata": {
  "kernelspec": {
   "display_name": "Python 3 (ipykernel)",
   "language": "python",
   "name": "python3"
  },
  "language_info": {
   "codemirror_mode": {
    "name": "ipython",
    "version": 3
   },
   "file_extension": ".py",
   "mimetype": "text/x-python",
   "name": "python",
   "nbconvert_exporter": "python",
   "pygments_lexer": "ipython3",
   "version": "3.11.7"
  }
 },
 "nbformat": 4,
 "nbformat_minor": 5
}
